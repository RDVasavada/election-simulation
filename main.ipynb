{
 "cells": [
  {
   "cell_type": "code",
   "execution_count": 0,
   "metadata": {
    "collapsed": false
   },
   "outputs": [
   ],
   "source": [
   ]
  },
  {
   "cell_type": "code",
   "execution_count": 60,
   "metadata": {
    "collapsed": false
   },
   "outputs": [
   ],
   "source": [
    "import matplotlib.pyplot as plt\n",
    "import numpy as np\n",
    "import pandas as pd\n",
    "import math"
   ]
  },
  {
   "cell_type": "code",
   "execution_count": 61,
   "metadata": {
    "collapsed": false
   },
   "outputs": [
    {
     "data": {
      "text/html": [
       "<div>\n",
       "<style scoped>\n",
       "    .dataframe tbody tr th:only-of-type {\n",
       "        vertical-align: middle;\n",
       "    }\n",
       "\n",
       "    .dataframe tbody tr th {\n",
       "        vertical-align: top;\n",
       "    }\n",
       "\n",
       "    .dataframe thead th {\n",
       "        text-align: right;\n",
       "    }\n",
       "</style>\n",
       "<table border=\"1\" class=\"dataframe\">\n",
       "  <thead>\n",
       "    <tr style=\"text-align: right;\">\n",
       "      <th></th>\n",
       "      <th>Year</th>\n",
       "      <th>dem</th>\n",
       "      <th>rep</th>\n",
       "      <th>dem_poll</th>\n",
       "      <th>rep_poll</th>\n",
       "      <th>actual_margin</th>\n",
       "      <th>poll_margin</th>\n",
       "      <th>error</th>\n",
       "    </tr>\n",
       "  </thead>\n",
       "  <tbody>\n",
       "    <tr>\n",
       "      <th>0</th>\n",
       "      <td>1968</td>\n",
       "      <td>42.7</td>\n",
       "      <td>43.4</td>\n",
       "      <td>42</td>\n",
       "      <td>43</td>\n",
       "      <td>-0.7</td>\n",
       "      <td>-1</td>\n",
       "      <td>0.3</td>\n",
       "    </tr>\n",
       "    <tr>\n",
       "      <th>1</th>\n",
       "      <td>1972</td>\n",
       "      <td>37.5</td>\n",
       "      <td>60.7</td>\n",
       "      <td>38</td>\n",
       "      <td>62</td>\n",
       "      <td>-23.2</td>\n",
       "      <td>-24</td>\n",
       "      <td>0.8</td>\n",
       "    </tr>\n",
       "    <tr>\n",
       "      <th>2</th>\n",
       "      <td>1976</td>\n",
       "      <td>50.1</td>\n",
       "      <td>48.0</td>\n",
       "      <td>48</td>\n",
       "      <td>49</td>\n",
       "      <td>2.1</td>\n",
       "      <td>-1</td>\n",
       "      <td>3.1</td>\n",
       "    </tr>\n",
       "    <tr>\n",
       "      <th>3</th>\n",
       "      <td>1980</td>\n",
       "      <td>41.0</td>\n",
       "      <td>50.7</td>\n",
       "      <td>44</td>\n",
       "      <td>47</td>\n",
       "      <td>-9.7</td>\n",
       "      <td>-3</td>\n",
       "      <td>6.7</td>\n",
       "    </tr>\n",
       "    <tr>\n",
       "      <th>4</th>\n",
       "      <td>1984</td>\n",
       "      <td>40.6</td>\n",
       "      <td>58.8</td>\n",
       "      <td>41</td>\n",
       "      <td>59</td>\n",
       "      <td>-18.2</td>\n",
       "      <td>-18</td>\n",
       "      <td>0.2</td>\n",
       "    </tr>\n",
       "    <tr>\n",
       "      <th>5</th>\n",
       "      <td>1988</td>\n",
       "      <td>45.6</td>\n",
       "      <td>53.4</td>\n",
       "      <td>44</td>\n",
       "      <td>56</td>\n",
       "      <td>-7.8</td>\n",
       "      <td>-12</td>\n",
       "      <td>4.2</td>\n",
       "    </tr>\n",
       "    <tr>\n",
       "      <th>6</th>\n",
       "      <td>1992</td>\n",
       "      <td>43.0</td>\n",
       "      <td>37.4</td>\n",
       "      <td>49</td>\n",
       "      <td>37</td>\n",
       "      <td>5.6</td>\n",
       "      <td>12</td>\n",
       "      <td>6.4</td>\n",
       "    </tr>\n",
       "    <tr>\n",
       "      <th>7</th>\n",
       "      <td>1996</td>\n",
       "      <td>49.2</td>\n",
       "      <td>40.7</td>\n",
       "      <td>52</td>\n",
       "      <td>41</td>\n",
       "      <td>8.5</td>\n",
       "      <td>11</td>\n",
       "      <td>2.5</td>\n",
       "    </tr>\n",
       "    <tr>\n",
       "      <th>8</th>\n",
       "      <td>2000</td>\n",
       "      <td>48.4</td>\n",
       "      <td>47.9</td>\n",
       "      <td>46</td>\n",
       "      <td>48</td>\n",
       "      <td>0.5</td>\n",
       "      <td>-2</td>\n",
       "      <td>2.5</td>\n",
       "    </tr>\n",
       "    <tr>\n",
       "      <th>9</th>\n",
       "      <td>2004</td>\n",
       "      <td>48.3</td>\n",
       "      <td>50.7</td>\n",
       "      <td>49</td>\n",
       "      <td>49</td>\n",
       "      <td>-2.4</td>\n",
       "      <td>0</td>\n",
       "      <td>2.4</td>\n",
       "    </tr>\n",
       "    <tr>\n",
       "      <th>10</th>\n",
       "      <td>2008</td>\n",
       "      <td>52.9</td>\n",
       "      <td>45.0</td>\n",
       "      <td>53</td>\n",
       "      <td>42</td>\n",
       "      <td>7.9</td>\n",
       "      <td>11</td>\n",
       "      <td>3.1</td>\n",
       "    </tr>\n",
       "    <tr>\n",
       "      <th>11</th>\n",
       "      <td>2012</td>\n",
       "      <td>51.1</td>\n",
       "      <td>47.2</td>\n",
       "      <td>49</td>\n",
       "      <td>46</td>\n",
       "      <td>3.9</td>\n",
       "      <td>3</td>\n",
       "      <td>0.9</td>\n",
       "    </tr>\n",
       "    <tr>\n",
       "      <th>12</th>\n",
       "      <td>2016</td>\n",
       "      <td>48.1</td>\n",
       "      <td>46.1</td>\n",
       "      <td>46</td>\n",
       "      <td>42</td>\n",
       "      <td>2.0</td>\n",
       "      <td>4</td>\n",
       "      <td>2.0</td>\n",
       "    </tr>\n",
       "  </tbody>\n",
       "</table>\n",
       "</div>"
      ],
      "text/plain": [
       "    Year   dem   rep  dem_poll  rep_poll  actual_margin  poll_margin  error\n",
       "0   1968  42.7  43.4        42        43           -0.7           -1    0.3\n",
       "1   1972  37.5  60.7        38        62          -23.2          -24    0.8\n",
       "2   1976  50.1  48.0        48        49            2.1           -1    3.1\n",
       "3   1980  41.0  50.7        44        47           -9.7           -3    6.7\n",
       "4   1984  40.6  58.8        41        59          -18.2          -18    0.2\n",
       "5   1988  45.6  53.4        44        56           -7.8          -12    4.2\n",
       "6   1992  43.0  37.4        49        37            5.6           12    6.4\n",
       "7   1996  49.2  40.7        52        41            8.5           11    2.5\n",
       "8   2000  48.4  47.9        46        48            0.5           -2    2.5\n",
       "9   2004  48.3  50.7        49        49           -2.4            0    2.4\n",
       "10  2008  52.9  45.0        53        42            7.9           11    3.1\n",
       "11  2012  51.1  47.2        49        46            3.9            3    0.9\n",
       "12  2016  48.1  46.1        46        42            2.0            4    2.0"
      ]
     },
     "execution_count": 61,
     "metadata": {
     },
     "output_type": "execute_result"
    }
   ],
   "source": [
    "df = pd.read_csv('generic_ballot_polls.csv')\n",
    "\n",
    "results_df = pd.read_csv('election_data_.csv')\n",
    "results_df['actual_margin'] = results_df['dem'] - results_df['rep']\n",
    "results_df['poll_margin'] = results_df['dem_poll'] - results_df['rep_poll']\n",
    "results_df['error'] = abs(results_df['actual_margin'] - results_df['poll_margin'])\n",
    "results_df"
   ]
  },
  {
   "cell_type": "code",
   "execution_count": 62,
   "metadata": {
    "collapsed": false
   },
   "outputs": [
   ],
   "source": [
    "df['undecided'] = 100 - df['dem'] - df['rep']\n",
    "df['dem'] = df['dem'] + 0.5 * df['undecided']\n",
    "df['rep'] = df['rep'] + 0.5 * df['undecided']\n",
    "df = df[['dem', 'rep']]"
   ]
  },
  {
   "cell_type": "code",
   "execution_count": 63,
   "metadata": {
    "collapsed": false
   },
   "outputs": [
   ],
   "source": [
    "means = df.mean()\n",
    "avg_error = results_df.mean()['error']"
   ]
  },
  {
   "cell_type": "code",
   "execution_count": 66,
   "metadata": {
    "collapsed": false
   },
   "outputs": [
    {
     "data": {
      "text/plain": [
       "0.90447"
      ]
     },
     "execution_count": 66,
     "metadata": {
     },
     "output_type": "execute_result"
    }
   ],
   "source": [
    "dem_victories = 0\n",
    "\n",
    "for x in range(0, 100000):\n",
    "    error = np.random.normal(scale=avg_error)\n",
    "    \n",
    "    adj_dem = means['dem'] + error\n",
    "    adj_rep = means['rep'] - error\n",
    "        \n",
    "    if adj_dem > adj_rep:\n",
    "        dem_victories = dem_victories + 1\n",
    "        \n",
    "dem_victories / 100000"
   ]
  },
  {
   "cell_type": "code",
   "execution_count": 0,
   "metadata": {
    "collapsed": false
   },
   "outputs": [
   ],
   "source": [
   ]
  },
  {
   "cell_type": "code",
   "execution_count": 0,
   "metadata": {
    "collapsed": false
   },
   "outputs": [
   ],
   "source": [
   ]
  },
  {
   "cell_type": "code",
   "execution_count": 0,
   "metadata": {
    "collapsed": false
   },
   "outputs": [
   ],
   "source": [
   ]
  },
  {
   "cell_type": "code",
   "execution_count": 0,
   "metadata": {
    "collapsed": false
   },
   "outputs": [
   ],
   "source": [
   ]
  }
 ],
 "metadata": {
  "kernelspec": {
   "display_name": "Python 3 (system-wide)",
   "language": "python",
   "metadata": {
    "cocalc": {
     "description": "Python 3 programming language",
     "priority": 100,
     "url": "https://www.python.org/"
    }
   },
   "name": "python3"
  },
  "language_info": {
   "codemirror_mode": {
    "name": "ipython",
    "version": 3
   },
   "file_extension": ".py",
   "mimetype": "text/x-python",
   "name": "python",
   "nbconvert_exporter": "python",
   "pygments_lexer": "ipython3",
   "version": "3.8.5"
  }
 },
 "nbformat": 4,
 "nbformat_minor": 4
}